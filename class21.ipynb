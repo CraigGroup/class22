{
 "cells": [
  {
   "cell_type": "markdown",
   "id": "7b331fc5",
   "metadata": {},
   "source": [
    "# In-class exercises Class 21\n",
    "\n",
    "---\n",
    "\n",
    "Today we will investigate a new tool called Pandas.  Pandas is built on numpy to add useful functionallity for data analysis.   We will use numpy and pandas in today's notebook.  Also, we will make some plots, so let's include what we need.\n",
    "\n",
    "\n",
    "At first, pandas will seem like an extra layer that isn't necessary, but I promise it will be very very useful.  Just bear with me for another class or two and you will see how powerful it is!  \n",
    "\n"
   ]
  },
  {
   "cell_type": "code",
   "execution_count": 19,
   "id": "51f98c59",
   "metadata": {},
   "outputs": [],
   "source": [
    "import pandas as pd\n",
    "import numpy as np\n",
    "import matplotlib.pyplot as plt"
   ]
  },
  {
   "cell_type": "markdown",
   "id": "7d626bea",
   "metadata": {},
   "source": [
    "The primary data structures in pandas are implemented as two classes:\n",
    "\n",
    "    - DataFrame: which you can imagine as a relational data table, with rows and named columns.  This is many series, combined together, as defined below.  \n",
    "    - Series: which is a single column. A DataFrame contains one or more Series and a name for each Series. This is basically a numpy attay, with a label attached to it.  \n",
    "\n",
    "The data frame is a commonly used for data analysis.  We will use data frames to see how it can make data analysis easier and it is a common tool used to make accessing data science tools easier.  \n",
    "\n",
    "We can fill data frames by hand by first making some series and them combining them into data frames:"
   ]
  },
  {
   "cell_type": "code",
   "execution_count": 20,
   "id": "4799c189",
   "metadata": {},
   "outputs": [
    {
     "name": "stdout",
     "output_type": "stream",
     "text": [
      "         City name  Population  City size\n",
      "0          Norfolk      240000         54\n",
      "1  Charlottesville       47000         10\n",
      "2     Williamsburg       14000          9\n"
     ]
    }
   ],
   "source": [
    "city_names = pd.Series(['Norfolk', 'Charlottesville', 'Williamsburg'])\n",
    "population = pd.Series([240000, 47000, 14000])\n",
    "city_size = pd.Series([54, 10 , 9])  #sq miles\n",
    "\n",
    "cities = pd.DataFrame({ 'City name': city_names, 'Population': population, 'City size':city_size })\n",
    "\n",
    "print(cities)\n"
   ]
  },
  {
   "cell_type": "markdown",
   "id": "1c3f0a45",
   "metadata": {},
   "source": [
    "We can get access to a single \"series\" using its name.  Once we have access to a series it is basically like a numpy array, and we can do all of the the things we learned how to do with numpy arrays!"
   ]
  },
  {
   "cell_type": "code",
   "execution_count": 21,
   "id": "378ea7c6",
   "metadata": {},
   "outputs": [
    {
     "name": "stdout",
     "output_type": "stream",
     "text": [
      "0    240000\n",
      "1     47000\n",
      "2     14000\n",
      "Name: Population, dtype: int64\n"
     ]
    }
   ],
   "source": [
    "pop = cities['Population']\n",
    "print(pop)\n"
   ]
  },
  {
   "cell_type": "markdown",
   "id": "783b8e2c",
   "metadata": {},
   "source": [
    "Once we have a series, we can plot this series in several different ways (that we already learned) with matplotlib.  Here I'll show some basic examples.  "
   ]
  },
  {
   "cell_type": "code",
   "execution_count": 22,
   "id": "517fa23d",
   "metadata": {},
   "outputs": [
    {
     "data": {
      "text/plain": [
       "Text(0, 0.5, 'Population')"
      ]
     },
     "execution_count": 22,
     "metadata": {},
     "output_type": "execute_result"
    },
    {
     "data": {
      "image/png": "[encoded data removed]",
      "text/plain": [
       "<Figure size 432x288 with 1 Axes>"
      ]
     },
     "metadata": {
      "needs_background": "light"
     },
     "output_type": "display_data"
    }
   ],
   "source": [
    "pop.plot(kind=\"bar\")\n",
    "plt.xlabel('City number')\n",
    "plt.ylabel('Population')"
   ]
  },
  {
   "cell_type": "markdown",
   "id": "68fcdc65",
   "metadata": {},
   "source": [
    "It would be much more awesome if we had the city name on the x-axis.  Can we do that?  We can do it easily if we plot directly from the data frame!  "
   ]
  },
  {
   "cell_type": "code",
   "execution_count": 23,
   "id": "04944225",
   "metadata": {},
   "outputs": [
    {
     "data": {
      "text/plain": [
       "Text(0, 0.5, 'Population')"
      ]
     },
     "execution_count": 23,
     "metadata": {},
     "output_type": "execute_result"
    },
    {
     "data": {
      "image/png": "[encoded data removed]",
      "text/plain": [
       "<Figure size 432x288 with 1 Axes>"
      ]
     },
     "metadata": {
      "needs_background": "light"
     },
     "output_type": "display_data"
    }
   ],
   "source": [
    "cities.plot(x=\"City name\", y=\"Population\", kind=\"bar\")\n",
    "plt.ylabel('Population')\n"
   ]
  },
  {
   "cell_type": "markdown",
   "id": "9f25ce5c",
   "metadata": {},
   "source": [
    "Wow - that was pretty easy to make a pretty nice plot!  "
   ]
  },
  {
   "cell_type": "code",
   "execution_count": 24,
   "id": "725c0d3f",
   "metadata": {},
   "outputs": [
    {
     "data": {
      "text/plain": [
       "<AxesSubplot:xlabel='City size', ylabel='Population'>"
      ]
     },
     "execution_count": 24,
     "metadata": {},
     "output_type": "execute_result"
    },
    {
     "data": {
      "image/png": "[encoded data removed]",
      "text/plain": [
       "<Figure size 432x288 with 1 Axes>"
      ]
     },
     "metadata": {
      "needs_background": "light"
     },
     "output_type": "display_data"
    }
   ],
   "source": [
    "cities.plot.scatter(x='City size', y='Population', \n",
    "                     color='Blue', label='size vs pop')"
   ]
  },
  {
   "cell_type": "markdown",
   "id": "a6fbc6eb",
   "metadata": {},
   "source": [
    "Interesting, but it might be more enlightening with a few more cities...  "
   ]
  },
  {
   "cell_type": "markdown",
   "id": "ea555ac0",
   "metadata": {},
   "source": [
    "## **EXERCISE 1**:  \n",
    "<span style=\"color:red\">  Make a new \"cities\" DataFrame but add your home town as the 4th city. Print the data frame to the screen.    </red>\n",
    "    \n",
    "\n",
    " \n",
    "    \n",
    "    \n",
    "   "
   ]
  },
  {
   "cell_type": "code",
   "execution_count": 25,
   "id": "6127a074",
   "metadata": {},
   "outputs": [],
   "source": [
    "#put your code here."
   ]
  },
  {
   "cell_type": "markdown",
   "id": "02d258dd",
   "metadata": {},
   "source": [
    "## **EXERCISE 2**:  \n",
    "<span style=\"color:red\">  Make a pandas DataFrame called \"MyClasses\" with three series:  1) a short 'name' of each class you are in this semester 2) the approximate number of students 'N_students' in each class and 3) a ranking of your 'preference'for the class - one meaning that you like it the most.  Print the DataFrame to the screen.    </red>\n",
    "    \n",
    "\n",
    " \n",
    "    \n",
    "    \n",
    "   "
   ]
  },
  {
   "cell_type": "code",
   "execution_count": 26,
   "id": "9a2935fa",
   "metadata": {},
   "outputs": [],
   "source": [
    "#Put your code here...  "
   ]
  },
  {
   "cell_type": "markdown",
   "id": "1a520d61",
   "metadata": {},
   "source": [
    "## **EXERCISE 3**:  \n",
    "<span style=\"color:red\">  I told you that you can basically use a pandas series like a numpy array.  Can you plot the scatter plot (correlation) between 'N_students' and 'preference' from above.  From this data do you prefer large or small classes?      </red>\n",
    "    \n",
    "\n",
    " \n",
    "    \n",
    "    \n",
    "   "
   ]
  },
  {
   "cell_type": "code",
   "execution_count": 27,
   "id": "42784f4b",
   "metadata": {},
   "outputs": [],
   "source": [
    "#Put your code here...  "
   ]
  },
  {
   "cell_type": "markdown",
   "id": "31a516a2",
   "metadata": {},
   "source": [
    "Let's try a pie chart - for fun :-)\n"
   ]
  },
  {
   "cell_type": "code",
   "execution_count": 28,
   "id": "0c643879",
   "metadata": {},
   "outputs": [
    {
     "data": {
      "image/png": "[encoded data removed]",
      "text/plain": [
       "<Figure size 432x288 with 1 Axes>"
      ]
     },
     "metadata": {},
     "output_type": "display_data"
    }
   ],
   "source": [
    "# plotting a pie chart\n",
    "plt.pie(cities[\"Population\"], labels=cities[\"City name\"])\n",
    "plt.show()"
   ]
  },
  {
   "cell_type": "markdown",
   "id": "0773e038",
   "metadata": {},
   "source": [
    "Wow, It doesn't get easier than that!  "
   ]
  },
  {
   "cell_type": "markdown",
   "id": "17d831c4",
   "metadata": {},
   "source": [
    "---\n",
    "\n",
    "## Back to the Iris dataset.\n",
    "\n",
    "When we fist looked at the iris dataset it was in a single file in CVS format (comma seperated values).  We had to do some text manipulation to get it in an easy form to use with numpy.  Let's start with the CVS file again and see how pandas helps us avoid that extra work for reading in and converting the file.  I copied the data file into the GitHub repository, so you should have access.\n",
    "\n",
    "As seen above it is possible to load a pandas DataFrame \"by hand\", but there are many other ways to do it, and pandas can just read in a CVS file (amoung other file types) directly into a DataFrame.  Let's try it.  \n",
    "\n",
    "\n"
   ]
  },
  {
   "cell_type": "code",
   "execution_count": 29,
   "id": "c8d1b40d",
   "metadata": {},
   "outputs": [
    {
     "data": {
      "text/html": [
       "<div>\n",
       "<style scoped>\n",
       "    .dataframe tbody tr th:only-of-type {\n",
       "        vertical-align: middle;\n",
       "    }\n",
       "\n",
       "    .dataframe tbody tr th {\n",
       "        vertical-align: top;\n",
       "    }\n",
       "\n",
       "    .dataframe thead th {\n",
       "        text-align: right;\n",
       "    }\n",
       "</style>\n",
       "<table border=\"1\" class=\"dataframe\">\n",
       "  <thead>\n",
       "    <tr style=\"text-align: right;\">\n",
       "      <th></th>\n",
       "      <th>sepal.length</th>\n",
       "      <th>sepal.width</th>\n",
       "      <th>petal.length</th>\n",
       "      <th>petal.width</th>\n",
       "      <th>variety</th>\n",
       "    </tr>\n",
       "  </thead>\n",
       "  <tbody>\n",
       "    <tr>\n",
       "      <th>0</th>\n",
       "      <td>5.1</td>\n",
       "      <td>3.5</td>\n",
       "      <td>1.4</td>\n",
       "      <td>0.2</td>\n",
       "      <td>Iris-setosa</td>\n",
       "    </tr>\n",
       "    <tr>\n",
       "      <th>1</th>\n",
       "      <td>4.9</td>\n",
       "      <td>3.0</td>\n",
       "      <td>1.4</td>\n",
       "      <td>0.2</td>\n",
       "      <td>Iris-setosa</td>\n",
       "    </tr>\n",
       "    <tr>\n",
       "      <th>2</th>\n",
       "      <td>4.7</td>\n",
       "      <td>3.2</td>\n",
       "      <td>1.3</td>\n",
       "      <td>0.2</td>\n",
       "      <td>Iris-setosa</td>\n",
       "    </tr>\n",
       "    <tr>\n",
       "      <th>3</th>\n",
       "      <td>4.6</td>\n",
       "      <td>3.1</td>\n",
       "      <td>1.5</td>\n",
       "      <td>0.2</td>\n",
       "      <td>Iris-setosa</td>\n",
       "    </tr>\n",
       "    <tr>\n",
       "      <th>4</th>\n",
       "      <td>5.0</td>\n",
       "      <td>3.6</td>\n",
       "      <td>1.4</td>\n",
       "      <td>0.2</td>\n",
       "      <td>Iris-setosa</td>\n",
       "    </tr>\n",
       "  </tbody>\n",
       "</table>\n",
       "</div>"
      ],
      "text/plain": [
       "   sepal.length  sepal.width  petal.length  petal.width      variety\n",
       "0           5.1          3.5           1.4          0.2  Iris-setosa\n",
       "1           4.9          3.0           1.4          0.2  Iris-setosa\n",
       "2           4.7          3.2           1.3          0.2  Iris-setosa\n",
       "3           4.6          3.1           1.5          0.2  Iris-setosa\n",
       "4           5.0          3.6           1.4          0.2  Iris-setosa"
      ]
     },
     "execution_count": 29,
     "metadata": {},
     "output_type": "execute_result"
    }
   ],
   "source": [
    "iris_df = pd.read_csv('data/iris.data')\n",
    "iris_df.head()   #Will show the top few lines of the DataFrame\n"
   ]
  },
  {
   "cell_type": "markdown",
   "id": "4b93159b",
   "metadata": {},
   "source": [
    "Or we can display 5 random rows:"
   ]
  },
  {
   "cell_type": "code",
   "execution_count": 30,
   "id": "f1be4999",
   "metadata": {},
   "outputs": [
    {
     "data": {
      "text/html": [
       "<div>\n",
       "<style scoped>\n",
       "    .dataframe tbody tr th:only-of-type {\n",
       "        vertical-align: middle;\n",
       "    }\n",
       "\n",
       "    .dataframe tbody tr th {\n",
       "        vertical-align: top;\n",
       "    }\n",
       "\n",
       "    .dataframe thead th {\n",
       "        text-align: right;\n",
       "    }\n",
       "</style>\n",
       "<table border=\"1\" class=\"dataframe\">\n",
       "  <thead>\n",
       "    <tr style=\"text-align: right;\">\n",
       "      <th></th>\n",
       "      <th>sepal.length</th>\n",
       "      <th>sepal.width</th>\n",
       "      <th>petal.length</th>\n",
       "      <th>petal.width</th>\n",
       "      <th>variety</th>\n",
       "    </tr>\n",
       "  </thead>\n",
       "  <tbody>\n",
       "    <tr>\n",
       "      <th>137</th>\n",
       "      <td>6.4</td>\n",
       "      <td>3.1</td>\n",
       "      <td>5.5</td>\n",
       "      <td>1.8</td>\n",
       "      <td>Iris-virginica</td>\n",
       "    </tr>\n",
       "    <tr>\n",
       "      <th>95</th>\n",
       "      <td>5.7</td>\n",
       "      <td>3.0</td>\n",
       "      <td>4.2</td>\n",
       "      <td>1.2</td>\n",
       "      <td>Iris-versicolor</td>\n",
       "    </tr>\n",
       "    <tr>\n",
       "      <th>130</th>\n",
       "      <td>7.4</td>\n",
       "      <td>2.8</td>\n",
       "      <td>6.1</td>\n",
       "      <td>1.9</td>\n",
       "      <td>Iris-virginica</td>\n",
       "    </tr>\n",
       "    <tr>\n",
       "      <th>93</th>\n",
       "      <td>5.0</td>\n",
       "      <td>2.3</td>\n",
       "      <td>3.3</td>\n",
       "      <td>1.0</td>\n",
       "      <td>Iris-versicolor</td>\n",
       "    </tr>\n",
       "    <tr>\n",
       "      <th>107</th>\n",
       "      <td>7.3</td>\n",
       "      <td>2.9</td>\n",
       "      <td>6.3</td>\n",
       "      <td>1.8</td>\n",
       "      <td>Iris-virginica</td>\n",
       "    </tr>\n",
       "  </tbody>\n",
       "</table>\n",
       "</div>"
      ],
      "text/plain": [
       "     sepal.length  sepal.width  petal.length  petal.width          variety\n",
       "137           6.4          3.1           5.5          1.8   Iris-virginica\n",
       "95            5.7          3.0           4.2          1.2  Iris-versicolor\n",
       "130           7.4          2.8           6.1          1.9   Iris-virginica\n",
       "93            5.0          2.3           3.3          1.0  Iris-versicolor\n",
       "107           7.3          2.9           6.3          1.8   Iris-virginica"
      ]
     },
     "execution_count": 30,
     "metadata": {},
     "output_type": "execute_result"
    }
   ],
   "source": [
    "iris_df.sample(5)"
   ]
  },
  {
   "cell_type": "markdown",
   "id": "e7041641",
   "metadata": {},
   "source": [
    "If we just want to see the names of the collums:"
   ]
  },
  {
   "cell_type": "code",
   "execution_count": 31,
   "id": "5d7ae4cc",
   "metadata": {},
   "outputs": [
    {
     "data": {
      "text/plain": [
       "Index(['sepal.length', 'sepal.width', 'petal.length', 'petal.width',\n",
       "       'variety'],\n",
       "      dtype='object')"
      ]
     },
     "execution_count": 31,
     "metadata": {},
     "output_type": "execute_result"
    }
   ],
   "source": [
    "iris_df.columns\n"
   ]
  },
  {
   "cell_type": "markdown",
   "id": "cfc85a0c",
   "metadata": {},
   "source": [
    "Or, we can check the \"shape\" of the DataFrame:"
   ]
  },
  {
   "cell_type": "code",
   "execution_count": 32,
   "id": "edc5f708",
   "metadata": {},
   "outputs": [
    {
     "data": {
      "text/plain": [
       "(150, 5)"
      ]
     },
     "execution_count": 32,
     "metadata": {},
     "output_type": "execute_result"
    }
   ],
   "source": [
    "iris_df.shape"
   ]
  },
  {
   "cell_type": "markdown",
   "id": "54a45a10",
   "metadata": {},
   "source": [
    "Good - it has 150 rows (50 for each variety), and 5 collums as expected.  "
   ]
  },
  {
   "cell_type": "markdown",
   "id": "b09d1ce0",
   "metadata": {},
   "source": [
    "Great - we got it loaded in one line of code and it looks like the dataset we used in the past based on a few quick checks!  \n",
    "\n",
    "Now let's figure out how to do some of the things we did before when we had three numpy arrays - one for each variety.  Of course, we could select out those series, and then do exactly what we did before. Or, we could work directly with the DataFrame.  \n",
    "\n"
   ]
  },
  {
   "cell_type": "markdown",
   "id": "5c1121b7",
   "metadata": {},
   "source": [
    "Let's make a 1-D histogram for all three species combined for one variable first.  Remember - *once we index a single collumn (in this case 'sepal.length', we can treat it like a numpy array and use all the plotting features that we used in the past*!  \n"
   ]
  },
  {
   "cell_type": "code",
   "execution_count": 33,
   "id": "f2ffb043",
   "metadata": {},
   "outputs": [
    {
     "data": {
      "text/plain": [
       "Text(0.5, 1.0, 'Sepal Length - all species!!')"
      ]
     },
     "execution_count": 33,
     "metadata": {},
     "output_type": "execute_result"
    },
    {
     "data": {
      "image/png": "[encoded data removed]",
      "text/plain": [
       "<Figure size 432x288 with 1 Axes>"
      ]
     },
     "metadata": {
      "needs_background": "light"
     },
     "output_type": "display_data"
    }
   ],
   "source": [
    "plt.hist(iris_df['sepal.length'],label=\"All Varieties\",alpha=.5)\n",
    "#iris_df['sepal.length'] selects out a single collumn!  \n",
    "\n",
    "\n",
    "plt.xlabel(\"Septal length (cm)\")\n",
    "plt.ylabel(\"Count/bin\")\n",
    "plt.title(\"Sepal Length - all species!!\")"
   ]
  },
  {
   "cell_type": "markdown",
   "id": "a72deb3f",
   "metadata": {},
   "source": [
    "What if we only want to draw this distribution for a single species - setosa, for example?  First I can select (or index) the species I want, and then I can index the distribution.  Like this!"
   ]
  },
  {
   "cell_type": "code",
   "execution_count": 34,
   "id": "632d249f",
   "metadata": {},
   "outputs": [
    {
     "data": {
      "text/plain": [
       "Text(0.5, 1.0, 'Sepal Length - Setosa!!')"
      ]
     },
     "execution_count": 34,
     "metadata": {},
     "output_type": "execute_result"
    },
    {
     "data": {
      "image/png": "[encoded data removed]",
      "text/plain": [
       "<Figure size 432x288 with 1 Axes>"
      ]
     },
     "metadata": {
      "needs_background": "light"
     },
     "output_type": "display_data"
    }
   ],
   "source": [
    "plt.hist(iris_df[iris_df[\"variety\"] == \"Iris-setosa\"][\"sepal.length\"],label=\"setosa\",alpha=.5)\n",
    "#[iris_df[\"variety\"] == \"Iris-setosa\"] selects out all rows for which variety=setosa\n",
    "#of those rows selected:  iris_df['sepal.length'] selects out a single collumn!  \n",
    "plt.xlabel(\"Septal length (cm)\")\n",
    "plt.ylabel(\"Count/bin\")\n",
    "plt.title(\"Sepal Length - Setosa!!\")"
   ]
  },
  {
   "cell_type": "markdown",
   "id": "bd89a0fd",
   "metadata": {},
   "source": [
    "Let's do all three on the same plot:"
   ]
  },
  {
   "cell_type": "code",
   "execution_count": 35,
   "id": "49f2e80e",
   "metadata": {},
   "outputs": [
    {
     "data": {
      "image/png": "[encoded data removed]",
      "text/plain": [
       "<Figure size 432x288 with 1 Axes>"
      ]
     },
     "metadata": {
      "needs_background": "light"
     },
     "output_type": "display_data"
    }
   ],
   "source": [
    "plt.figure()  #Need this before we are able to save a plot to file!!!\n",
    "plt.hist(iris_df[iris_df[\"variety\"] == \"Iris-setosa\"][\"sepal.length\"],label=\"setosa\",alpha=.5)\n",
    "plt.hist(iris_df[iris_df[\"variety\"] == \"Iris-virginica\"][\"sepal.length\"],label=\"virginica\",alpha=.5)\n",
    "plt.hist(iris_df[iris_df[\"variety\"] == \"Iris-versicolor\"][\"sepal.length\"],label=\"versicolor\",alpha=.5)\n",
    "\n",
    "# Adding Title\n",
    "plt.legend()\n",
    "plt.title(\"Iris Class Characteristics\")\n",
    "  \n",
    "# Labeling the axes\n",
    "plt.xlabel(\"Septal length (cm)\")\n",
    "plt.ylabel(\"Count/bin\")\n",
    " \n",
    "plt.savefig('septal_length.png')"
   ]
  },
  {
   "cell_type": "markdown",
   "id": "a8ddc333",
   "metadata": {},
   "source": [
    "## **EXERCISE 3**:  \n",
    "<span style=\"color:red\">  Make the same plot for Petal width.        </red>\n",
    "    \n",
    "\n",
    " \n",
    "    \n",
    "    \n",
    "   "
   ]
  },
  {
   "cell_type": "code",
   "execution_count": 36,
   "id": "17eeef3f",
   "metadata": {},
   "outputs": [],
   "source": [
    "#Put your code here...  "
   ]
  },
  {
   "cell_type": "markdown",
   "id": "957297c4",
   "metadata": {},
   "source": [
    "It is possible to work directly with data frames and make scatter plots.  First let's do it with one variable and all species on the same plot...  "
   ]
  },
  {
   "cell_type": "code",
   "execution_count": 37,
   "id": "adc2e1fa",
   "metadata": {},
   "outputs": [
    {
     "data": {
      "text/plain": [
       "Text(0.5, 1.0, 'All species!')"
      ]
     },
     "execution_count": 37,
     "metadata": {},
     "output_type": "execute_result"
    },
    {
     "data": {
      "image/png": "[encoded data removed]",
      "text/plain": [
       "<Figure size 432x288 with 1 Axes>"
      ]
     },
     "metadata": {
      "needs_background": "light"
     },
     "output_type": "display_data"
    }
   ],
   "source": [
    "\n",
    "                \n",
    "iris_df.plot.scatter(x='sepal.length', y='sepal.width', \n",
    "                     color='Blue', label='sepal')\n",
    "plt.title(\"All species!\")\n"
   ]
  },
  {
   "cell_type": "markdown",
   "id": "a979adcc",
   "metadata": {},
   "source": [
    "That was pretty nice, but it includes all three species.  We can select out one species like this...  "
   ]
  },
  {
   "cell_type": "code",
   "execution_count": 38,
   "id": "d0fb4c1c",
   "metadata": {},
   "outputs": [
    {
     "data": {
      "text/html": [
       "<div>\n",
       "<style scoped>\n",
       "    .dataframe tbody tr th:only-of-type {\n",
       "        vertical-align: middle;\n",
       "    }\n",
       "\n",
       "    .dataframe tbody tr th {\n",
       "        vertical-align: top;\n",
       "    }\n",
       "\n",
       "    .dataframe thead th {\n",
       "        text-align: right;\n",
       "    }\n",
       "</style>\n",
       "<table border=\"1\" class=\"dataframe\">\n",
       "  <thead>\n",
       "    <tr style=\"text-align: right;\">\n",
       "      <th></th>\n",
       "      <th>sepal.length</th>\n",
       "      <th>sepal.width</th>\n",
       "      <th>petal.length</th>\n",
       "      <th>petal.width</th>\n",
       "      <th>variety</th>\n",
       "    </tr>\n",
       "  </thead>\n",
       "  <tbody>\n",
       "    <tr>\n",
       "      <th>7</th>\n",
       "      <td>5.0</td>\n",
       "      <td>3.4</td>\n",
       "      <td>1.5</td>\n",
       "      <td>0.2</td>\n",
       "      <td>Iris-setosa</td>\n",
       "    </tr>\n",
       "    <tr>\n",
       "      <th>24</th>\n",
       "      <td>4.8</td>\n",
       "      <td>3.4</td>\n",
       "      <td>1.9</td>\n",
       "      <td>0.2</td>\n",
       "      <td>Iris-setosa</td>\n",
       "    </tr>\n",
       "    <tr>\n",
       "      <th>16</th>\n",
       "      <td>5.4</td>\n",
       "      <td>3.9</td>\n",
       "      <td>1.3</td>\n",
       "      <td>0.4</td>\n",
       "      <td>Iris-setosa</td>\n",
       "    </tr>\n",
       "    <tr>\n",
       "      <th>20</th>\n",
       "      <td>5.4</td>\n",
       "      <td>3.4</td>\n",
       "      <td>1.7</td>\n",
       "      <td>0.2</td>\n",
       "      <td>Iris-setosa</td>\n",
       "    </tr>\n",
       "    <tr>\n",
       "      <th>9</th>\n",
       "      <td>4.9</td>\n",
       "      <td>3.1</td>\n",
       "      <td>1.5</td>\n",
       "      <td>0.1</td>\n",
       "      <td>Iris-setosa</td>\n",
       "    </tr>\n",
       "  </tbody>\n",
       "</table>\n",
       "</div>"
      ],
      "text/plain": [
       "    sepal.length  sepal.width  petal.length  petal.width      variety\n",
       "7            5.0          3.4           1.5          0.2  Iris-setosa\n",
       "24           4.8          3.4           1.9          0.2  Iris-setosa\n",
       "16           5.4          3.9           1.3          0.4  Iris-setosa\n",
       "20           5.4          3.4           1.7          0.2  Iris-setosa\n",
       "9            4.9          3.1           1.5          0.1  Iris-setosa"
      ]
     },
     "execution_count": 38,
     "metadata": {},
     "output_type": "execute_result"
    }
   ],
   "source": [
    "setosa_df = iris_df[iris_df[\"variety\"] == \"Iris-setosa\"]  #Make a dataFrame that only containes setosa.  \n",
    "setosa_df.sample(5)  #Let's make sure it only containes setosa...\n",
    "\n"
   ]
  },
  {
   "cell_type": "markdown",
   "id": "70cbe804",
   "metadata": {},
   "source": [
    "Looks good.  Lets plot it...  "
   ]
  },
  {
   "cell_type": "code",
   "execution_count": 39,
   "id": "c43a7eaf",
   "metadata": {},
   "outputs": [
    {
     "data": {
      "text/plain": [
       "Text(0.5, 1.0, 'Setosa Only!')"
      ]
     },
     "execution_count": 39,
     "metadata": {},
     "output_type": "execute_result"
    },
    {
     "data": {
      "image/png": "[encoded data removed]",
      "text/plain": [
       "<Figure size 432x288 with 1 Axes>"
      ]
     },
     "metadata": {
      "needs_background": "light"
     },
     "output_type": "display_data"
    }
   ],
   "source": [
    "setosa_df.plot.scatter(x='sepal.length', y='sepal.width', \n",
    "                     color='Blue', label='sepal')\n",
    "plt.title(\"Setosa Only!\")"
   ]
  },
  {
   "cell_type": "markdown",
   "id": "2021a7f8",
   "metadata": {},
   "source": [
    "We could have drawn the plot in a single step (without first making a new data frame).  We could do it like this:  "
   ]
  },
  {
   "cell_type": "code",
   "execution_count": 40,
   "id": "ef25a782",
   "metadata": {
    "jupyter": {
     "source_hidden": true
    }
   },
   "outputs": [
    {
     "data": {
      "text/plain": [
       "Text(0.5, 1.0, 'Setosa Only!')"
      ]
     },
     "execution_count": 40,
     "metadata": {},
     "output_type": "execute_result"
    },
    {
     "data": {
      "image/png": "[encoded data removed]",
      "text/plain": [
       "<Figure size 432x288 with 1 Axes>"
      ]
     },
     "metadata": {
      "needs_background": "light"
     },
     "output_type": "display_data"
    }
   ],
   "source": [
    "iris_df[iris_df[\"variety\"] == \"Iris-setosa\"].plot.scatter(x='sepal.length', y='sepal.width', \n",
    "                     color='Blue', label='sepal')\n",
    "plt.title(\"Setosa Only!\")"
   ]
  },
  {
   "cell_type": "markdown",
   "id": "d0279b77",
   "metadata": {},
   "source": [
    "We can plot them all:"
   ]
  },
  {
   "cell_type": "code",
   "execution_count": 41,
   "id": "6a27f5ba",
   "metadata": {},
   "outputs": [
    {
     "data": {
      "text/plain": [
       "<AxesSubplot:xlabel='sepal.length', ylabel='sepal.width'>"
      ]
     },
     "execution_count": 41,
     "metadata": {},
     "output_type": "execute_result"
    },
    {
     "data": {
      "text/plain": [
       "<Figure size 432x288 with 0 Axes>"
      ]
     },
     "metadata": {},
     "output_type": "display_data"
    },
    {
     "data": {
      "image/png": "[encoded data removed]",
      "text/plain": [
       "<Figure size 432x288 with 1 Axes>"
      ]
     },
     "metadata": {
      "needs_background": "light"
     },
     "output_type": "display_data"
    },
    {
     "data": {
      "image/png": "[encoded data removed]",
      "text/plain": [
       "<Figure size 432x288 with 1 Axes>"
      ]
     },
     "metadata": {
      "needs_background": "light"
     },
     "output_type": "display_data"
    },
    {
     "data": {
      "image/png": "[encoded data removed]",
      "text/plain": [
       "<Figure size 432x288 with 1 Axes>"
      ]
     },
     "metadata": {
      "needs_background": "light"
     },
     "output_type": "display_data"
    }
   ],
   "source": [
    "plt.figure()\n",
    "\n",
    "iris_df[iris_df[\"variety\"] == \"Iris-setosa\"].plot.scatter(x='sepal.length', y='sepal.width', \n",
    "                     color='Blue', label='setosa')\n",
    "\n",
    "iris_df[iris_df[\"variety\"] == \"Iris-virginica\"].plot.scatter(x='sepal.length', y='sepal.width', \n",
    "                     color='orange', label='virginica')\n",
    "\n",
    "iris_df[iris_df[\"variety\"] == \"Iris-versicolor\"].plot.scatter(x='sepal.length', y='sepal.width', \n",
    "                     color='black', label='versicolor')"
   ]
  },
  {
   "cell_type": "markdown",
   "id": "dc3ad25c",
   "metadata": {},
   "source": [
    "It wasn't obvious to me how to put them on the same figure drawing directly from the data frame (maybe you can figure it out for HW?).  So, I had to go back to the way we did it before (using plt.scatter).  I simply constructed the series that I wanted and treated it like a numpy array for plotting in matplotlib:  "
   ]
  },
  {
   "cell_type": "code",
   "execution_count": 42,
   "id": "73df022e",
   "metadata": {},
   "outputs": [
    {
     "data": {
      "image/png": "[encoded data removed]",
      "text/plain": [
       "<Figure size 432x288 with 1 Axes>"
      ]
     },
     "metadata": {
      "needs_background": "light"
     },
     "output_type": "display_data"
    }
   ],
   "source": [
    "colors = ['green', 'orange', 'blue']\n",
    "label_species = ['setosa' ,'virginica', 'versicolor']\n",
    "\n",
    "plt.scatter(  \n",
    "        iris_df[iris_df[\"variety\"] == \"Iris-setosa\"]['sepal.length'],        \n",
    "        iris_df[iris_df[\"variety\"] == \"Iris-setosa\"]['sepal.width'],\n",
    "        color=colors[0],              \n",
    "        label=label_species[0]   \n",
    ")\n",
    "\n",
    "plt.scatter(  \n",
    "        iris_df[iris_df[\"variety\"] == \"Iris-virginica\"]['sepal.length'],        \n",
    "        iris_df[iris_df[\"variety\"] == \"Iris-virginica\"]['sepal.width'],\n",
    "        color=colors[1],              \n",
    "        label=label_species[1]   \n",
    ")\n",
    "\n",
    "plt.scatter(  \n",
    "        iris_df[iris_df[\"variety\"] == \"Iris-versicolor\"]['sepal.length'],        \n",
    "        iris_df[iris_df[\"variety\"] == \"Iris-versicolor\"]['sepal.width'],\n",
    "        color=colors[2],              \n",
    "        label=label_species[2]   \n",
    ")\n",
    "\n",
    "\n",
    "plt.xlabel('sepal length (cm)')\n",
    "plt.ylabel('sepal width (cm)')\n",
    "plt.title('Iris dataset: sepal length vs sepal width')\n",
    "plt.legend(loc='lower right')\n",
    "\n",
    "plt.show()\n"
   ]
  },
  {
   "cell_type": "code",
   "execution_count": null,
   "id": "8d385dcc",
   "metadata": {},
   "outputs": [],
   "source": []
  },
  {
   "cell_type": "markdown",
   "id": "835979b7",
   "metadata": {},
   "source": [
    "## **EXERCISE 4**:  \n",
    "<span style=\"color:red\"> Make the same plot, but for pedal length v/s pedal width.  Would this correlation be useful in telling the difference between the three classes, how?       </red>"
   ]
  },
  {
   "cell_type": "code",
   "execution_count": null,
   "id": "58678dab",
   "metadata": {},
   "outputs": [],
   "source": [
    "#Put your code here"
   ]
  },
  {
   "cell_type": "markdown",
   "id": "9931111b",
   "metadata": {},
   "source": [
    "Put your comments here."
   ]
  },
  {
   "cell_type": "markdown",
   "id": "90b07702",
   "metadata": {},
   "source": [
    "## **EXERCISE 5**:  \n",
    "<span style=\"color:red\"> Compare the correlatin coefficient for the three classes from excercize 4 (using the data frame).       </red>"
   ]
  },
  {
   "cell_type": "code",
   "execution_count": null,
   "id": "9bb86822",
   "metadata": {},
   "outputs": [],
   "source": [
    "#Put your code here"
   ]
  },
  {
   "cell_type": "markdown",
   "id": "523e2eb3",
   "metadata": {},
   "source": [
    "Put your comments here."
   ]
  }
 ],
 "metadata": {
  "kernelspec": {
   "display_name": "Python 3 (ipykernel)",
   "language": "python",
   "name": "python3"
  },
  "language_info": {
   "codemirror_mode": {
    "name": "ipython",
    "version": 3
   },
   "file_extension": ".py",
   "mimetype": "text/x-python",
   "name": "python",
   "nbconvert_exporter": "python",
   "pygments_lexer": "ipython3",
   "version": "3.8.8"
  }
 },
 "nbformat": 4,
 "nbformat_minor": 5
}
